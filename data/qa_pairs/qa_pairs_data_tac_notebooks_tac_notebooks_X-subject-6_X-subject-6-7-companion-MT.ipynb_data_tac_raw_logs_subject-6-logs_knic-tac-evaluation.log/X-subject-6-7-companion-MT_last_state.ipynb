{
    "cells": [
        {
            "cell_type": "markdown",
            "id": 0,
            "source": [
                "Sample English sentence"
            ],
            "metadata": {}
        },
        {
            "cell_type": "code",
            "id": "2d51bbc4-a0a5-4c14-9f83-b8d60eae8908",
            "source": [
                "input = \"In the last few years, companies and scholars have started to use A.I. to supercharge work they could never have imagined.\""
            ],
            "metadata": {},
            "outputs": []
        },
        {
            "cell_type": "markdown",
            "id": 2,
            "source": [
                "Set up the Helsinki English-to-German MT model"
            ],
            "metadata": {}
        },
        {
            "cell_type": "code",
            "id": "2eb12ab3-328e-493c-9e7f-fc5e05dfc27a",
            "source": [
                "# INSTRUCTION: Set up the Helsinki English-to-German MT model",
                "# CODE MT-S-2.1",
                "from transformers import AutoTokenizer, AutoModelForSeq2SeqLM",
                "model_name = \"Helsinki-NLP/opus-mt-en-de\"",
                "tokenizer = AutoTokenizer.from_pretrained(model_name)",
                "model = AutoModelForSeq2SeqLM.from_pretrained(model_name)"
            ],
            "metadata": {},
            "outputs": []
        },
        {
            "cell_type": "markdown",
            "id": 4,
            "source": [
                "Translate and print the sample sentence"
            ],
            "metadata": {}
        },
        {
            "cell_type": "code",
            "id": "4e4acb8b-61a9-40af-878a-c4606eb13b89",
            "source": [
                "# INSTRUCTION: Translate and print the sample sentence using the Helsinki model",
                "# CODE MT-S-2.2",
                "input_ids = tokenizer.encode(input, return_tensors=\"pt\")",
                "outputs = model.generate(input_ids,max_new_tokens = 200)",
                "helsinki_decoded = tokenizer.decode(outputs[0], skip_special_tokens=True)",
                "print(helsinki_decoded)"
            ],
            "metadata": {},
            "outputs": []
        }
    ],
    "metadata": {
        "kernelspec": {
            "display_name": "m12-evaluation",
            "language": "python",
            "name": "m12-evaluation"
        },
        "language_info": {
            "codemirror_mode": {
                "name": "ipython",
                "version": 3
            },
            "file_extension": ".py",
            "mimetype": "text/x-python",
            "name": "python",
            "nbconvert_exporter": "python",
            "pygments_lexer": "ipython3",
            "version": "3.9.13"
        }
    },
    "nbformat": 4,
    "nbformat_minor": 5
}