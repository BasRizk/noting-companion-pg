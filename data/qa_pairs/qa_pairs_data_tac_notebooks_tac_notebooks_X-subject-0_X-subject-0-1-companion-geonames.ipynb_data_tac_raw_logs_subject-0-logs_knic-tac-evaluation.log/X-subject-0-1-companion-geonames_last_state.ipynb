{
    "cells": [
        {
            "cell_type": "markdown",
            "id": 0,
            "source": [
                "Initialize geonames notebook"
            ],
            "metadata": {}
        },
        {
            "cell_type": "code",
            "id": "2a160037-1b8b-4dd5-98b4-fbc1558beda4",
            "source": [
                "from kgtk.functions import kgtk\n",
                "edges_path = 'data/geonames_sample.tsv.gz'"
            ],
            "metadata": {},
            "outputs": []
        },
        {
            "cell_type": "markdown",
            "id": 2,
            "source": [
                "Find feature code for lake"
            ],
            "metadata": {}
        },
        {
            "cell_type": "code",
            "id": "8b4f24c6-9f8b-498b-8a46-111893ed7608",
            "source": [
                "# INSTRUCTION: Find feature code for lake",
                "# CODE GEO-S-3.1",
                "!grep lake data/feature_codes.tsv"
            ],
            "metadata": {},
            "outputs": []
        },
        {
            "cell_type": "markdown",
            "id": 4,
            "source": [
                "Find all lakes and return their names"
            ],
            "metadata": {}
        },
        {
            "cell_type": "code",
            "id": "d7d77827-8bdd-4ce3-b935-5dbf6a23edd4",
            "source": [
                "# INSTRUCTION: Find all lakes and return their names",
                "# CODE GEO-S-3.2",
                "df = kgtk(f\"\"\"",
                "    query -i {edges_path}",
                "    --match '(loc)-[:name]->(lname), (loc)-[:featurecode]->(fc)'",
                "    --return 'lname as name'",
                "    --where 'fc=\"LK\"'",
                "\"\"\")"
            ],
            "metadata": {},
            "outputs": []
        },
        {
            "cell_type": "markdown",
            "id": 6,
            "source": [
                "Print results of the geonames query"
            ],
            "metadata": {}
        },
        {
            "cell_type": "code",
            "id": "0252fb33-11fa-4058-bbf3-94a17d2d58cf",
            "source": [
                "print(df)"
            ],
            "metadata": {},
            "outputs": []
        }
    ],
    "metadata": {
        "kernelspec": {
            "display_name": "m12-evaluation",
            "language": "python",
            "name": "m12-evaluation"
        },
        "language_info": {
            "codemirror_mode": {
                "name": "ipython",
                "version": 3
            },
            "file_extension": ".py",
            "mimetype": "text/x-python",
            "name": "python",
            "nbconvert_exporter": "python",
            "pygments_lexer": "ipython3",
            "version": "3.9.16"
        }
    },
    "nbformat": 4,
    "nbformat_minor": 5
}