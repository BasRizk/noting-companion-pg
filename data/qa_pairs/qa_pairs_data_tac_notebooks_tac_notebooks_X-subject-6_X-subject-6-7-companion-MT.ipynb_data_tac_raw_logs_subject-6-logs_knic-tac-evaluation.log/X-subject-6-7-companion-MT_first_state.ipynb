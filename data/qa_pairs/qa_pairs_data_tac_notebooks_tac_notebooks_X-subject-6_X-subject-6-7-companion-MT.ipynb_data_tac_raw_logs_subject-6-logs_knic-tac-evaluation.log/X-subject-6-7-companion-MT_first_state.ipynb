{
    "cells": [
        {
            "cell_type": "markdown",
            "id": 0,
            "source": [
                "Sample English sentence"
            ],
            "metadata": {}
        },
        {
            "cell_type": "code",
            "id": "2d51bbc4-a0a5-4c14-9f83-b8d60eae8908",
            "source": [
                "input = \"In the last few years, companies and scholars have started to use A.I. to supercharge work they could never have imagined.\""
            ],
            "metadata": {},
            "outputs": []
        },
        {
            "cell_type": "markdown",
            "id": 2,
            "source": [
                "Set up the Helsinki English-to-German MT model"
            ],
            "metadata": {}
        },
        {
            "cell_type": "code",
            "id": "2eb12ab3-328e-493c-9e7f-fc5e05dfc27a",
            "source": [
                "# INSTRUCTION: Set up the Helsinki English-to-German MT model\n",
                "# CODE MT-S-2.1"
            ],
            "metadata": {},
            "outputs": []
        },
        {
            "cell_type": "markdown",
            "id": 4,
            "source": [
                "Translate and print the sample sentence"
            ],
            "metadata": {}
        },
        {
            "cell_type": "code",
            "id": "4e4acb8b-61a9-40af-878a-c4606eb13b89",
            "source": [
                "# INSTRUCTION: Translate and print the sample sentence using the Helsinki model\n",
                "# CODE MT-S-2.2"
            ],
            "metadata": {},
            "outputs": []
        }
    ],
    "metadata": {
        "kernelspec": {
            "display_name": "m12-evaluation",
            "language": "python",
            "name": "m12-evaluation"
        },
        "language_info": {
            "codemirror_mode": {
                "name": "ipython",
                "version": 3
            },
            "file_extension": ".py",
            "mimetype": "text/x-python",
            "name": "python",
            "nbconvert_exporter": "python",
            "pygments_lexer": "ipython3",
            "version": "3.9.13"
        }
    },
    "nbformat": 4,
    "nbformat_minor": 5
}