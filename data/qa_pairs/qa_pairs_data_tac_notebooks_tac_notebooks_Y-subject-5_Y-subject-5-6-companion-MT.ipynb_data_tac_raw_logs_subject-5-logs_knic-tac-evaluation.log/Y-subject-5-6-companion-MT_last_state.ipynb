{
    "cells": [
        {
            "cell_type": "markdown",
            "id": 0,
            "source": [
                "Sample English sentence"
            ],
            "metadata": {}
        },
        {
            "cell_type": "code",
            "id": "6eb5bb47-bc6f-4c25-87ce-742844f80b82",
            "source": [
                "input = \"In the last few years, companies and scholars have started to use A.I. to supercharge work they could never have imagined.\""
            ],
            "metadata": {},
            "outputs": []
        },
        {
            "cell_type": "markdown",
            "id": 2,
            "source": [
                "Set up the Facebook English-to-German MT model"
            ],
            "metadata": {}
        },
        {
            "cell_type": "code",
            "id": "c423f720-e309-4729-bd07-0c4dc19a1969",
            "source": [
                "# INSTRUCTION: Set up the Facebook English-to-German MT model",
                "# CODE MT-S-1.1",
                "from transformers import FSMTForConditionalGeneration, FSMTTokenizer",
                "model_name = \"facebook/wmt19-en-de\"",
                "tokenizer = FSMTTokenizer.from_pretrained(model_name)",
                "model = FSMTForConditionalGeneration.from_pretrained(model_name)"
            ],
            "metadata": {},
            "outputs": []
        },
        {
            "cell_type": "markdown",
            "id": 4,
            "source": [
                "Translate and print the sample sentence"
            ],
            "metadata": {}
        },
        {
            "cell_type": "code",
            "id": "9b5945e3-4f90-41f6-ba11-d77dafec42b7",
            "source": [
                "# INSTRUCTION: Translate and print the sample sentence using the Facebook model",
                "# CODE MT-S-1.2",
                "tokenizer.decode(",
                "    model.generate(",
                "        tokenizer.encode(input, return_tensors='pt'),",
                "        max_new_tokens=200",
                "    )[0],",
                "    skip_spacial_tokens=True",
                ")"
            ],
            "metadata": {},
            "outputs": []
        }
    ],
    "metadata": {
        "kernelspec": {
            "display_name": "m12-evaluation",
            "language": "python",
            "name": "m12-evaluation"
        },
        "language_info": {
            "codemirror_mode": {
                "name": "ipython",
                "version": 3
            },
            "file_extension": ".py",
            "mimetype": "text/x-python",
            "name": "python",
            "nbconvert_exporter": "python",
            "pygments_lexer": "ipython3",
            "version": "3.9.13"
        }
    },
    "nbformat": 4,
    "nbformat_minor": 5
}